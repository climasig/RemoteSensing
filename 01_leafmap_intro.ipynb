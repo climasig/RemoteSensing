{
  "cells": [
    {
      "cell_type": "markdown",
      "metadata": {
        "id": "view-in-github",
        "colab_type": "text"
      },
      "source": [
        "<a href=\"https://colab.research.google.com/github/climasig/RemoteSensing/blob/main/01_leafmap_intro.ipynb\" target=\"_parent\"><img src=\"https://colab.research.google.com/assets/colab-badge.svg\" alt=\"Open In Colab\"/></a>"
      ]
    },
    {
      "cell_type": "markdown",
      "metadata": {
        "id": "mcP33MjV4K_U"
      },
      "source": [
        "[![image](https://jupyterlite.rtfd.io/en/latest/_static/badge.svg)](https://demo.leafmap.org/lab/index.html?path=notebooks/01_leafmap_intro.ipynb)\n",
        "[![image](https://studiolab.sagemaker.aws/studiolab.svg)](https://studiolab.sagemaker.aws/import/github/opengeos/leafmap/blob/master/examples/notebooks/01_leafmap_intro.ipynb)\n",
        "[![image](https://img.shields.io/badge/Open-Planetary%20Computer-black?style=flat&logo=microsoft)](https://pccompute.westeurope.cloudapp.azure.com/compute/hub/user-redirect/git-pull?repo=https://github.com/opengeos/leafmap&urlpath=lab/tree/leafmap/examples/notebooks/01_leafmap_intro.ipynb&branch=master)\n",
        "[![image](https://colab.research.google.com/assets/colab-badge.svg)](https://githubtocolab.com/opengeos/leafmap/blob/master/examples/notebooks/01_leafmap_intro.ipynb)\n",
        "[![image](https://mybinder.org/badge_logo.svg)](https://gishub.org/leafmap-binder)\n",
        "\n",
        "**Introducing the leafmap Python package for interactive mapping**\n",
        "\n",
        "Uncomment the following line to install [leafmap](https://leafmap.org) if needed."
      ],
      "id": "mcP33MjV4K_U"
    },
    {
      "cell_type": "code",
      "execution_count": null,
      "metadata": {
        "id": "jiL1fB934K_X"
      },
      "outputs": [],
      "source": [
        "!pip install leafmap"
      ],
      "id": "jiL1fB934K_X"
    },
    {
      "cell_type": "markdown",
      "metadata": {
        "id": "fFwvsMrg4K_Z"
      },
      "source": [
        "`leafmap` has four plotting backends: [folium](https://github.com/python-visualization/folium), [ipyleaflet](https://github.com/jupyter-widgets/ipyleaflet), [here-map](https://github.com/heremaps/here-map-widget-for-jupyter), and [kepler.gl](https://docs.kepler.gl/docs/keplergl-jupyter). Note that the backends do not offer equal functionality. Some interactive functionality in `ipyleaflet` might not be available in other plotting backends. To use a specific plotting backend, use one of the following:\n",
        "\n",
        "- `import leafmap.leafmap as leafmap`\n",
        "- `import leafmap.foliumap as leafmap`\n",
        "- `import leafmap.heremap as leafmap`\n",
        "- `import leafmap.kepler as leafmap`"
      ],
      "id": "fFwvsMrg4K_Z"
    },
    {
      "cell_type": "code",
      "execution_count": null,
      "metadata": {
        "id": "TZAQY91C4K_Z"
      },
      "outputs": [],
      "source": [
        "import leafmap"
      ],
      "id": "TZAQY91C4K_Z"
    },
    {
      "cell_type": "markdown",
      "metadata": {
        "id": "dklk63ma4K_a"
      },
      "source": [
        "Create an interactive map."
      ],
      "id": "dklk63ma4K_a"
    },
    {
      "cell_type": "code",
      "execution_count": null,
      "metadata": {
        "id": "4IkJDdzH4K_a"
      },
      "outputs": [],
      "source": [
        "m = leafmap.Map()\n",
        "m"
      ],
      "id": "4IkJDdzH4K_a"
    },
    {
      "cell_type": "markdown",
      "metadata": {
        "id": "wFZXdDSl4K_a"
      },
      "source": [
        "Specify the default map center and zoom level."
      ],
      "id": "wFZXdDSl4K_a"
    },
    {
      "cell_type": "code",
      "execution_count": null,
      "metadata": {
        "id": "kagTU7Oh4K_b"
      },
      "outputs": [],
      "source": [
        "m = leafmap.Map(center=[50, 19], zoom=4)  # center=[lat, lon]\n",
        "m"
      ],
      "id": "kagTU7Oh4K_b"
    },
    {
      "cell_type": "markdown",
      "metadata": {
        "id": "655IE2Ox4K_b"
      },
      "source": [
        "Set the visibility of map controls."
      ],
      "id": "655IE2Ox4K_b"
    },
    {
      "cell_type": "code",
      "execution_count": null,
      "metadata": {
        "id": "xbu_frAu4K_b"
      },
      "outputs": [],
      "source": [
        "m = leafmap.Map(\n",
        "    draw_control=False,\n",
        "    measure_control=False,\n",
        "    fullscreen_control=False,\n",
        "    attribution_control=True,\n",
        ")\n",
        "m"
      ],
      "id": "xbu_frAu4K_b"
    },
    {
      "cell_type": "markdown",
      "metadata": {
        "id": "iclFHKIS4K_b"
      },
      "source": [
        "Change the map width and height."
      ],
      "id": "iclFHKIS4K_b"
    },
    {
      "cell_type": "code",
      "execution_count": null,
      "metadata": {
        "id": "eMnN2mjh4K_c"
      },
      "outputs": [],
      "source": [
        "m = leafmap.Map(height=\"450px\", width=\"800px\")\n",
        "m"
      ],
      "id": "eMnN2mjh4K_c"
    },
    {
      "cell_type": "markdown",
      "metadata": {
        "id": "KakJhi8Z4K_c"
      },
      "source": [
        "Use the `ipyleaflet` plotting backend."
      ],
      "id": "KakJhi8Z4K_c"
    },
    {
      "cell_type": "code",
      "execution_count": null,
      "metadata": {
        "id": "ibM6AKBz4K_c"
      },
      "outputs": [],
      "source": [
        "import leafmap.leafmap as leafmap"
      ],
      "id": "ibM6AKBz4K_c"
    },
    {
      "cell_type": "code",
      "execution_count": null,
      "metadata": {
        "id": "mEX20DDO4K_c"
      },
      "outputs": [],
      "source": [
        "m = leafmap.Map()\n",
        "m"
      ],
      "id": "mEX20DDO4K_c"
    },
    {
      "cell_type": "markdown",
      "metadata": {
        "id": "uIqRmThK4K_c"
      },
      "source": [
        "Use the `folium` plotting backend."
      ],
      "id": "uIqRmThK4K_c"
    },
    {
      "cell_type": "code",
      "execution_count": null,
      "metadata": {
        "id": "nfgAt6Fp4K_c"
      },
      "outputs": [],
      "source": [
        "import leafmap.foliumap as leafmap"
      ],
      "id": "nfgAt6Fp4K_c"
    },
    {
      "cell_type": "code",
      "execution_count": null,
      "metadata": {
        "id": "OKJDjs8Z4K_c"
      },
      "outputs": [],
      "source": [
        "m = leafmap.Map()\n",
        "m"
      ],
      "id": "OKJDjs8Z4K_c"
    }
  ],
  "metadata": {
    "kernelspec": {
      "display_name": "Python 3",
      "language": "python",
      "name": "python3"
    },
    "colab": {
      "provenance": [],
      "include_colab_link": true
    }
  },
  "nbformat": 4,
  "nbformat_minor": 5
}